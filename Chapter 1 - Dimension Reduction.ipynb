{
 "cells": [
  {
   "cell_type": "markdown",
   "metadata": {},
   "source": [
    "# Dimensionality Reduction Techniques\n",
    "\n",
    "_Kevin Siswandi_  \n",
    "**Fundamentals of machine learning**  \n",
    "June 2020  \n",
    "\n",
    "- Many parameters need to be selected\n",
    "- The fidelity of the low-dimensional representation depends on the chosen parameters and intrinsic dimensionality of the data.\n",
    "- The parameters control the tradeoff between stiffness and flexibility\n",
    "\n",
    "We say that the lower-dimensional projection is either too stiff or too flexible when\n",
    "- Too stiff = faraway points get mapped to nearby locations\n",
    "- Too flexible = nearby points get mapped to faraway locations\n",
    "\n",
    "In real-world datasets, usually the intrinsic dimensionality is much lower than the nominal dimensionality. The first thing to do, is almost always PCA."
   ]
  },
  {
   "cell_type": "markdown",
   "metadata": {},
   "source": [
    "## Principal Component Analysis\n",
    "\n",
    "We will approach PCA here from the perspective of Singular Value Decomposition. We are looking for a rank-1 approximation to find the principal components. This is achived by decomposing the original data matrix X ($p \\times n$) into:\n",
    "- principal components -- new basis in terms of old basis\n",
    "- scores -- coordinates in the new, lower dimensional basis\n",
    "\n",
    "Some properties:\n",
    "- The principal component matrix $U$ is of shape $p \\times r$, where $r \\leq p$.\n",
    "- The scores matrix $Z$ is $r \\times n$.\n",
    "- The principal components are orthonormal to each other, i.e. $U^T U = I$\n",
    "\n",
    "Singular Value Decomposition says that X can always be decomposed into\n",
    "\n",
    "$$ X = U Z = U S V^T$$\n",
    "\n",
    "where S is a diagonal matrix. The optimization problem solved by PCA is\n",
    "\n",
    "$$ arg\\min_{U, Z} || X - UZ||_F^2 $$\n",
    "\n",
    "such that the product UZ has rank r. The decomposition is unique if singular values in diagonal matrix S are unique (nondegenerate). As a concrete example, consider a data matrix X of shape $p \\times n$, where $p \\leq n$. Then:\n",
    "* U is of shape p x p\n",
    "* S is of shape p x p\n",
    "* $V^T$ is of shape p x n\n",
    "* $U^T U = I_p$ (identity matrix of p dimension)\n",
    "* $V V^T = I_n$ (identity matrix of n dimension)\n",
    "\n",
    "The optimization problem can also be written as\n",
    "\n",
    "$$ arg\\min_\\tilde{X} || X - \\tilde{X}||_F^2 $$\n",
    "\n",
    "such that rank($\\tilde{X}$) = r, where:\n",
    "* X -- original data\n",
    "* Z -- low dimensional representation (encoding of X)\n",
    "* $\\tilde{X}$ -- approximation to original data/decoding of Z\n",
    "\n",
    "Note that the encoding can be done via $ Z = U^T X$, and the approximation/decoding computed as $ \\tilde{X} = UZ$."
   ]
  },
  {
   "cell_type": "markdown",
   "metadata": {},
   "source": [
    "## Autoencoders\n",
    "\n",
    "Note that both the encoding and decoding in PCA are linear operations. How do we go nonlinear? In autoencoders, the encoding and decoding are implemented by nonlinear neural networks. This is achieved by:\n",
    "\n",
    "$$ arg\\min_{\\theta_e, \\theta_d} \\sum_i L(x_i, f_d(f_e(x_i; \\theta_e); \\theta_d)) $$\n",
    "\n",
    "where L is the loss function, $f_e$ and $f_d$ are the encoding and decoding functions (from the neural network)."
   ]
  },
  {
   "cell_type": "code",
   "execution_count": 104,
   "metadata": {},
   "outputs": [],
   "source": [
    "def new_instances(n):\n",
    "    a=[]\n",
    "    b=[]\n",
    "    for i in range(n):\n",
    "        mu, cov, p=fit_qda(x_training, y_training)\n",
    "        a.append(np.random.multivariate_normal(mu[0], cov[0]))   #will generate only instances of digit 4.\n",
    "        b.append(np.random.multivariate_normal(mu[1], cov[1]))   #will generate only instances of digit 9.\n",
    "        #a[i]=np.reshape(a[i], (8,8))\n",
    "    a=np.reshape(a, (8,8,8)) \n",
    "    b=np.reshape(b, (8,8,8)) \n",
    "    return a,b\n",
    "    "
   ]
  },
  {
   "cell_type": "code",
   "execution_count": 106,
   "metadata": {},
   "outputs": [
    {
     "data": {
      "image/png": "[encoded data removed]",
      "text/plain": [
       "<Figure size 432x288 with 8 Axes>"
      ]
     },
     "metadata": {},
     "output_type": "display_data"
    }
   ],
   "source": [
    "for i in range (8):\n",
    "    plt.subplot(2,4,i+1)\n",
    "    \n",
    "    plt.imshow(B[i])\n",
    "  \n",
    "plt.show()"
   ]
  },
  {
   "cell_type": "markdown",
   "metadata": {},
   "source": [
    "We observe that most of the new instances generated from the QDA algorithm are slightly recognisable (as 4 and 9). When the discriminative information is not in the means or covariances of the classes (hers 4 and 9), that information might be lost while generating new datasets. "
   ]
  },
  {
   "cell_type": "code",
   "execution_count": null,
   "metadata": {},
   "outputs": [],
   "source": []
  }
 ],
 "metadata": {
  "kernelspec": {
   "display_name": "Python 3",
   "language": "python",
   "name": "python3"
  },
  "language_info": {
   "codemirror_mode": {
    "name": "ipython",
    "version": 3
   },
   "file_extension": ".py",
   "mimetype": "text/x-python",
   "name": "python",
   "nbconvert_exporter": "python",
   "pygments_lexer": "ipython3",
   "version": "3.7.4"
  }
 },
 "nbformat": 4,
 "nbformat_minor": 2
}
