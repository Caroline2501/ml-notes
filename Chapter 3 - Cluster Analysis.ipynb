{
 "cells": [
  {
   "cell_type": "markdown",
   "metadata": {},
   "source": [
    "# Clustering\n",
    "\n",
    "_Kevin Siswandi_  \n",
    "**Fundamentals of Machine Learning**  \n",
    "June 2020\n",
    "\n",
    "The goal of cluster analysis is to find groups (representative examples) in data. Examples:\n",
    "* Mean shift: finding modes based on density estimate\n",
    "* KMeans\n",
    "* DBSCAN\n",
    "\n",
    "There are many ways to classify clustering methods:\n",
    "* Hierarchical\n",
    "    - agglomerative (single-linkage, complete linkage, etc.)\n",
    "    - divisive -- usually less computationally efficient than agglomerative\n",
    "* Flat\n",
    "    - crisp (e.g. k-means, mean-shift)\n",
    "    - fuzzy (e.g. Gaussian Mixture Model)"
   ]
  },
  {
   "cell_type": "markdown",
   "metadata": {},
   "source": [
    "## Hierarchical Clustering\n",
    "\n",
    "With hierarchical clustering, we can see at which level clusters merge via a dendogram. Three distance criteria are possible:\n",
    "1. Single linkage -- shortest distance between any two points in two clusters\n",
    "2. Complete linkage -- \n",
    "3. Average linkage\n",
    "\n",
    "which usually give different results."
   ]
  },
  {
   "cell_type": "raw",
   "metadata": {
    "scrolled": false
   },
   "source": [
    "# agglomerative clustering\n",
    "Iteratively merge 'closest' clusters\n",
    "    update distance of new cluster to all others"
   ]
  },
  {
   "cell_type": "markdown",
   "metadata": {},
   "source": [
    "In the **single linkage clustering**, distance between cluster 1 and cluster 2 is found by\n",
    "\n",
    "$$ \\min_{i \\in C_1, j \\in C_2} d_{i,j} $$\n",
    "\n",
    "where $d_{ij}$ can be Euclidean, Mahalanobis, etc. This is equivalent to building a minimum spanning tree and truncates it:\n",
    "- Spanning (a subgraph of a full graph, where each node is connected to any other through the subgraph)\n",
    "- Minimum (the sum of edge weights used to construct the subgraph is minimal)\n",
    "- Tree (no cycles)\n",
    "\n",
    "Truncating is done by eliminating some edges that are above some threshold. This gives the same result as the dendogram approach but can be solved efficiently with Prim's or Kruskal's algorithm. The limitation of single linkage, however, is that noise can 'bridge' or 'chain' clusters."
   ]
  },
  {
   "cell_type": "markdown",
   "metadata": {},
   "source": [
    "In **complete linkage clustering**, it works the same but now we use\n",
    "\n",
    "$$ \\max_{i \\in C_1, j \\in C_2} d_{i,j} $$\n",
    "\n",
    "The limitation, however, is that it does not allow elongated clusters (produces compact clusters)."
   ]
  },
  {
   "cell_type": "code",
   "execution_count": 10,
   "metadata": {},
   "outputs": [
    {
     "data": {
      "image/png": "[encoded data removed]",
      "text/plain": [
       "<Figure size 432x288 with 2 Axes>"
      ]
     },
     "metadata": {
      "needs_background": "light"
     },
     "output_type": "display_data"
    }
   ],
   "source": [
    "fig = plt.figure()\n",
    "plt.subplot(1, 2, 1)\n",
    "plt.plot([10, 100, 1000, 10000], np.mean(values_C[:, [2,4,6,8]], axis = 0))\n",
    "plt.title('Behaviour of standard deviation for rule C')\n",
    "plt.ylabel('standard deviation of error rate'); plt.xlabel('test set size M')\n",
    "plt.loglog()\n",
    "\n",
    "plt.subplot(1, 2, 2)\n",
    "plt.plot([10, 100, 1000, 10000], np.mean(values_D[:, [2,4,6,8]], axis = 0))\n",
    "plt.title('Behaviour of standard deviation for rule D')\n",
    "plt.ylabel('standard deviation of error rate'); plt.xlabel('test set size M')\n",
    "plt.loglog()\n",
    "plt.subplots_adjust(top=0.8, bottom=0, left=0, right=1.6, hspace=0.25,\n",
    "                    wspace=0.25)\n",
    "plt.show()"
   ]
  },
  {
   "cell_type": "markdown",
   "metadata": {},
   "source": [
    "## 1.3 Nearest Neighbor Classification"
   ]
  },
  {
   "cell_type": "code",
   "execution_count": 7,
   "metadata": {
    "collapsed": true
   },
   "outputs": [],
   "source": [
    "# pretty big test set\n",
    "testset = create_data(10000)"
   ]
  },
  {
   "cell_type": "code",
   "execution_count": 8,
   "metadata": {},
   "outputs": [
    {
     "name": "stdout",
     "output_type": "stream",
     "text": [
      "Average error: 32.45% ± 14.16%\n"
     ]
    }
   ],
   "source": [
    "# nearest neighbour classifier with training_set of size N = 2\n",
    "def nn_classifier(x_test, x_train):\n",
    "    \"\"\"Nearest neighbor classifier for arbitrary training-set size.\n",
    "    \n",
    "    params\n",
    "    ------\n",
    "    x_test : float\n",
    "        A single sample to classify.\n",
    "    x_train : np.array shape=(samples, 2)\n",
    "        Training data for the classifier. \n",
    "        First column contains feature data, \n",
    "        the second one the correct label.\n",
    "    \n",
    "    returns\n",
    "    -------\n",
    "    label: [0, 1]\n",
    "        Predicted label of the x_test sample.\n",
    "        \n",
    "    \"\"\"\n",
    "    diff = np.abs(x_train[:, 0] - x_test)\n",
    "    idx = np.argmin(diff)\n",
    "    label = x_train[idx, 1]\n",
    "    return label\n",
    "\n",
    "errors = []\n",
    "for i in range(100):\n",
    "    # training set with one sample from each class\n",
    "    x0 = 1 - np.sqrt(1 - np.random.rand()) # class 0\n",
    "    x1 = np.sqrt(np.random.rand()) # class 1\n",
    "    train_set = np.array([[x0, 0], \n",
    "                          [x1, 1]])\n",
    "    # evaluate on test set\n",
    "    n_errors = 0\n",
    "    for xy in testset:\n",
    "        if nn_classifier(xy[0], train_set) != xy[1]: n_errors += 1\n",
    "    errors.append(float(n_errors) / len(testset))\n",
    "print('Average error: {}% ± {}%'.format(np.round(100 * np.mean(errors), 2), np.round(100 * np.std(errors), 2)))"
   ]
  },
  {
   "cell_type": "code",
   "execution_count": 9,
   "metadata": {
    "collapsed": true
   },
   "outputs": [],
   "source": [
    "# generate balanced training data\n",
    "def gen_balanced_data(n):\n",
    "    X0 = np.empty((n//2, 2))\n",
    "    X1 = np.empty((n//2, 2))\n",
    "    for i in range(n//2):\n",
    "            X0[i, 0] = 1 - np.sqrt(1 - np.random.rand())\n",
    "            X0[i, 1] = 0\n",
    "            X1[i, 0] = np.sqrt(np.random.rand())\n",
    "            X1[i, 1] = 1\n",
    "    return np.vstack((X0, X1))"
   ]
  },
  {
   "cell_type": "code",
   "execution_count": 18,
   "metadata": {},
   "outputs": [
    {
     "name": "stdout",
     "output_type": "stream",
     "text": [
      "Average error: 33.33% ± 2.39%\n"
     ]
    }
   ],
   "source": [
    "# repeat experiment with training_set of size N = 100\n",
    "\n",
    "errors = []\n",
    "for i in range(100):\n",
    "    # training set with 50 samples from each class\n",
    "    N = 100\n",
    "    train_set = gen_balanced_data(N)\n",
    "    # evaluate on test set\n",
    "    n_errors = 0\n",
    "    for xy in testset:\n",
    "        if nn_classifier(xy[0], train_set) != xy[1]: n_errors += 1\n",
    "    errors.append(float(n_errors) / len(testset))\n",
    "\n",
    "print('Average error: {}% ± {}%'.format(np.round(100 * np.mean(errors), 2), np.round(100 * np.std(errors), 2)))"
   ]
  },
  {
   "cell_type": "markdown",
   "metadata": {},
   "source": [
    "**Comment**<br>\n",
    "This experiment reduces the error only by a small amount. To explain this we have to consider that the probabilities for the two classes have high overlap. Therefore, a higher number of training examples will also include a higher number of instances that are located in the \"wrong\" region by chance. Those points lead to misclassifications. The method does still profit from more training data since proportion of \"correct\" points in the corresponding region increases, but the benefit is not as big as one would hope. We derive the theoretical asymptotic error in the next homework. Moreover, better results can be achieved with a k-nearest-neighbor method since the majority of several near neighbors is more accurate here. This algorithm is also covered in the next homework."
   ]
  },
  {
   "cell_type": "code",
   "execution_count": null,
   "metadata": {
    "collapsed": true
   },
   "outputs": [],
   "source": []
  }
 ],
 "metadata": {
  "kernelspec": {
   "display_name": "Python 3",
   "language": "python",
   "name": "python3"
  },
  "language_info": {
   "codemirror_mode": {
    "name": "ipython",
    "version": 3
   },
   "file_extension": ".py",
   "mimetype": "text/x-python",
   "name": "python",
   "nbconvert_exporter": "python",
   "pygments_lexer": "ipython3",
   "version": "3.7.4"
  }
 },
 "nbformat": 4,
 "nbformat_minor": 2
}
