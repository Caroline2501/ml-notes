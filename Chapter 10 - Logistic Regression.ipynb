{
 "cells": [
  {
   "cell_type": "markdown",
   "metadata": {},
   "source": [
    "# Logistic Regression Model\n",
    "\n",
    "_Kevin Siswandi_  \n",
    "**Fundamentals of Machine Learning**  \n",
    "June 2020\n",
    "\n",
    "Assume a binary classification problem with $y \\in \\{1, 0\\}$. The output of a logistic regression classifier is\n",
    "\n",
    "$$ f(x; w) = \\sigma(w^T x) $$\n",
    "\n",
    "where $\\sigma(...)$ is the sigmoid function. This is handy because it can be interpreted as probability of having y = 1."
   ]
  },
  {
   "cell_type": "markdown",
   "metadata": {},
   "source": [
    "## Sigmoid function\n",
    " \n",
    "The sigmoid or logistic function is given by\n",
    "\n",
    "$$ \\sigma(z) = \\frac{1}{1+e^{-z}} $$"
   ]
  },
  {
   "cell_type": "markdown",
   "metadata": {
    "collapsed": true
   },
   "source": [
    "## Nonlinear decision boundary\n",
    "\n",
    "Logistic regression can learn nonlinear decision boundary by introducing the right features -- e.g. polynomial or higher order features."
   ]
  },
  {
   "cell_type": "markdown",
   "metadata": {},
   "source": [
    "## Training\n",
    "\n",
    "The optimization objective is\n",
    "\n",
    "$$ \\arg \\min_w \\sum_i - y_i \\log(f(x_i, w)) - (1-y_i) \\log(1-f(x_i, w))$$\n",
    "\n",
    "We can't use the squared error cost function because it is nonconvex with multiple local minima. This cross-entropy cost function captures the intuition that if f = 0 when y = 1, the learning algorithm is penalized by a high cost. Moreover, it is convex and hence local minima free. The cross-entropy cost function can be derived using the principle of maximum-likelihood estimation.\n",
    "\n",
    "To minimize the cost function, we use gradient descent. The GD update is\n",
    "\n",
    "$$ w := w - \\alpha \\sum_i (f(x_i, w) - y_i) x_i $$ \n",
    "\n",
    "Note that feature scaling helps with gradient descent to converge faster."
   ]
  },
  {
   "cell_type": "code",
   "execution_count": null,
   "metadata": {},
   "outputs": [],
   "source": []
  }
 ],
 "metadata": {
  "kernelspec": {
   "display_name": "Python 3",
   "language": "python",
   "name": "python3"
  },
  "language_info": {
   "codemirror_mode": {
    "name": "ipython",
    "version": 3
   },
   "file_extension": ".py",
   "mimetype": "text/x-python",
   "name": "python",
   "nbconvert_exporter": "python",
   "pygments_lexer": "ipython3",
   "version": "3.7.4"
  }
 },
 "nbformat": 4,
 "nbformat_minor": 2
}
